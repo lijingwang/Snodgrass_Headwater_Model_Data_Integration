{
 "cells": [
  {
   "cell_type": "code",
   "execution_count": null,
   "metadata": {
    "tags": []
   },
   "outputs": [],
   "source": [
    "# Monte Carlo simulations, prior\n",
    "\n",
    "! python3 generate_input_files.py --input_template ../simulations/xml_transient.tpl --variable_mapping ../simulations/param_mapping.yml --num_simulations 100 --output_dir  ../simulations/\n",
    "! ../run_ensembles.sh -o ../simulations/ -n 100"
   ]
  },
  {
   "cell_type": "code",
   "execution_count": null,
   "metadata": {},
   "outputs": [],
   "source": [
    "# Monte Carlo simulations, posterior\n",
    "\n",
    "! python3 generate_input_files_from_csv.py --input_template ../posterior_simulations/xml_transient.tpl --csv_file 'Posterior.csv' --output_dir  ../posterior_simulations/\n",
    "! ../run_ensembles.sh -o ../posterior_simulations/ -n 10"
   ]
  }
 ],
 "metadata": {
  "kernelspec": {
   "display_name": "NERSC Python",
   "language": "python",
   "name": "python3"
  },
  "language_info": {
   "codemirror_mode": {
    "name": "ipython",
    "version": 3
   },
   "file_extension": ".py",
   "mimetype": "text/x-python",
   "name": "python",
   "nbconvert_exporter": "python",
   "pygments_lexer": "ipython3",
   "version": "3.11.7"
  }
 },
 "nbformat": 4,
 "nbformat_minor": 4
}
